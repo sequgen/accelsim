{
 "cells": [
  {
   "cell_type": "markdown",
   "metadata": {},
   "source": [
    "# Simulating the recordings of an accelerometer"
   ]
  },
  {
   "cell_type": "markdown",
   "metadata": {},
   "source": [
    "## Problem\n",
    "\n",
    "Given an accelerometer's movement, we want to calculate the readings of its directional sensors.\n",
    "\n",
    "## Solution\n",
    "\n",
    "If a point of mass $m$ moves following the curve $\\vec r(t)$ according to one system of coordinates, the movement will _look_ as $\\vec r'(t) = \\vec r(t) - \\vec R(t)$ from a coordinate system that is moving along the curve $\\vec R(t)$ and rotating with a time-dependent orientation matrix $\\omega(t)$.\n",
    "\n",
    "It is known from Coriolis force that the equation governing the accelerations measured by the accelerometer is given by:\n",
    "\n",
    "$$\n",
    "\\vec{a'} = \\vec{a} - \\ddot{\\vec R} - \\dot{\\vec{\\omega}}\\times\\vec{r'} - 2 \\vec{\\omega}\\times \\vec{v'} - \\vec{\\omega}\\times (\\vec{\\omega}\\times \\vec{r'})\n",
    "$$\n",
    "\n",
    "where prime vectors refer to vectors measured from the non-inertial frame of reference and $\\vec \\omega$ is the angular speed vector, [closely related](https://en.wikipedia.org/wiki/Angular_velocity#Tensorhttps://en.wikipedia.org/wiki/Angular_velocity#Tensor) to the orientation matrix. We use the notation, very common in mechanics and kinematics, of a dot over a state to denote its derivative, i.e.:\n",
    "\n",
    "$$\n",
    "\\dot f = \\frac{df}{dt} \\\\\n",
    "\\ddot f = \\frac{d^2 f}{dt^2}\n",
    "$$\n",
    "\n",
    "In the case of an accelerometer, the non-inertial frame travels with the object we want to study, and thus $\\vec r' = \\vec v' = \\vec 0$.\n",
    "This simplifies greatly the previous equation. All we need is:\n",
    "\n",
    "$$\n",
    "\\vec a' = \\vec a - \\ddot{\\vec R}\n",
    "$$\n",
    "\n",
    "This equation is trickier to apply than it looks. This is because we are forced to work with two different coordinate systems, and in order to operate, we need to express all the vectors present in the equation in the same one. We can use the orientation matrix for this:\n",
    "\n",
    "$$\n",
    "\\begin{bmatrix}\n",
    "a_x \\\\\n",
    "a_y \\\\\n",
    "a_z\n",
    "\\end{bmatrix}_{non inertial}\n",
    "=\n",
    "\\Omega(t)\n",
    "\\cdot\n",
    "\\left(\n",
    "\\begin{bmatrix}\n",
    "a_x \\\\\n",
    "a_y \\\\\n",
    "a_z\n",
    "\\end{bmatrix}\n",
    "-\n",
    "\\begin{bmatrix}\n",
    "\\ddot R_x \\\\\n",
    "\\ddot R_y \\\\\n",
    "\\ddot R_z\n",
    "\\end{bmatrix}\n",
    "\\right)\n",
    "$$\n",
    "\n",
    "### Simplified solution\n",
    "\n",
    "Rotations are extremelly annoying. They force us to work with a pair of coordinate systems, and thus to be explicit about coordinate transformations. Fortunately, some properties of vectors are independent of the coordinates used. And acceleration is a vector.\n",
    "\n",
    "One of this coordinate-invariant properties is the norm. The norm represents the length of the vector or, in the case of accelerations, its magnitude. The norm is a destructive operation, in the sense that all information about directionality is neglected.\n",
    "\n",
    "It can be proven that, if we take norms at both sides of our previous equation, the following relationship holds:\n",
    "\n",
    "$$\n",
    "\\left\\lVert \\vec a' \\right\\rVert = \\left\\lVert  \\vec a - \\ddot{\\vec R} \\right\\rVert\n",
    "$$\n",
    "\n",
    "The equation above can be used regardless of the coordinate system chosen, making it a great alternative to the full solution.\n",
    "\n",
    "## Implementation\n",
    "\n",
    "We want a function with the following pseudosignature:\n",
    "\n",
    "- an input of **time** and **movement**\n",
    "- an output in the form of a **time series** containing the simulated accelerations.\n",
    "\n",
    "From the point of view of data, the **time** and the **time series** can be easily coded as a vector. But what about the **movement**? \n",
    "\n",
    "For the movement, we will follow the classical kinematics approach, where:\n",
    "\n",
    "1. **Movement** is composed of displacement and rotation.\n",
    "2. Displacement is described by a [trajectory](https://en.wikipedia.org/wiki/Kinematics#Kinematics_of_a_particle_trajectory_in_a_non-rotating_frame_of_reference), i.e., a function of time that returns a vector, $\\vec R(t)$.\n",
    "3. Rotation is described by a function of time that returns the [orientation matrix](https://en.wikipedia.org/wiki/Rotation_matrix) that transforms the non-rotating frame of reference in the rotated one, $\\Omega (t)$.\n",
    "\n",
    "For the simplified solution the orientation matrix is not required.\n",
    "\n",
    "Some example inputs are shown below."
   ]
  },
  {
   "cell_type": "markdown",
   "metadata": {},
   "source": [
    "### Example: rectilinear movement with uniform acceleration\n",
    "\n",
    "In this case the corresponding displacement is:\n",
    "\n",
    "$$\n",
    "\\vec R(t) = \\vec R_0 + \\vec v_0 t + \\frac{1}{2} \\vec{a_0} t^2\n",
    "$$\n",
    "\n",
    "where $\\vec R_0$ is the initial position, $\\vec v_0$ the initial velocity and $\\vec a_0$ the constant acceleration.\n",
    "\n",
    "The movement is rectilinear, so there is no rotation:\n",
    "\n",
    "$$\n",
    "\\Omega(t) = \\mathbb{I}\n",
    "$$\n",
    "\n",
    "In Python terms, we can write:\n",
    "\n",
    "```python\n",
    "def R(t, R0 = np.matrix([[0],[0]]), v0 = np.matrix([[0],[0]]), a0 = np.matrix([[0],[-9.81]])):\n",
    "    return R0 + v0 * t + 0.5 * a0 * t**2\n",
    "```\n",
    "\n",
    "```python\n",
    "def omega(t):\n",
    "    return np.identity(2)\n",
    "```\n",
    "\n",
    "### Example: uniform circular movement without frame rotation\n",
    "\n",
    "The displacement for a circular movement is given by:\n",
    "\n",
    "$$\n",
    "\\vec R(t) = R_0 \\begin{bmatrix} \n",
    "                     \\cos(\\omega t) \\\\\n",
    "                     \\sin(\\omega t)\n",
    "                \\end{bmatrix}\n",
    "$$\n",
    "\n",
    "where $R_0$ is the radius and $\\omega$ the angular speed.\n",
    "\n",
    "As in the example above, it there is no rotation we have $\\Omega(t) = \\mathbb{I}$.\n",
    "\n",
    "In Python:\n",
    "\n",
    "```python\n",
    "def R(t, R0 = 1, w = 2*np.pi):\n",
    "    return R0 * np.matrix([[np.cos(w*t)],\n",
    "                           [np.sin(w*t)]])\n",
    "```\n",
    "\n",
    "```python\n",
    "def omega(t):\n",
    "    return np.identity(2)\n",
    "```\n",
    "\n",
    "### Example: uniform circular movement with frame rotation\n",
    "\n",
    "If our non-inertial frame of reference rotates synchronously with the displacement, the orientation matrix becomes:\n",
    "\n",
    "$$\n",
    "\\Omega(t) = \\begin{bmatrix}\n",
    "                \\cos(\\omega t) & \\sin(\\omega t) \\\\\n",
    "                -\\sin(\\omega t) & \\cos(\\omega t)\n",
    "            \\end{bmatrix}\n",
    "$$\n",
    "\n",
    "In Python:\n",
    "\n",
    "```python\n",
    "def R(t, R0 = 1, w = 2*np.pi):\n",
    "    return R0 * np.matrix([[np.cos(w*t)],\n",
    "                           [np.sin(w*t)]])\n",
    "```\n",
    "\n",
    "```python\n",
    "def omega(t):\n",
    "    return np.matrix([[+np.cos(w*t), np.sin(w*t)], \n",
    "                      [-np.sin(w*t), np.cos(w*t)]])\n",
    "```"
   ]
  },
  {
   "cell_type": "markdown",
   "metadata": {},
   "source": [
    "## Code it"
   ]
  },
  {
   "cell_type": "markdown",
   "metadata": {},
   "source": [
    "### Install dependencies"
   ]
  },
  {
   "cell_type": "code",
   "execution_count": 1,
   "metadata": {},
   "outputs": [],
   "source": [
    "import numpy as np\n",
    "import matplotlib.pyplot as plt\n",
    "from scipy.misc import derivative\n",
    "from scipy.linalg import norm\n",
    "import functools"
   ]
  },
  {
   "cell_type": "markdown",
   "metadata": {},
   "source": [
    "### Decorators\n",
    "\n",
    "The following decorators will be handy. We advice the reader to ignore them at this point. Their only role is to create a more handy output of functions that return matrix objects."
   ]
  },
  {
   "cell_type": "code",
   "execution_count": 2,
   "metadata": {},
   "outputs": [],
   "source": [
    "def arrayify(f):\n",
    "    '''Arrayify a function from R into R^n'''\n",
    "    \n",
    "    def ensure_iterable(x):\n",
    "        '''Coerces single number x into the one-element iterator (x, )'''\n",
    "        return (x,) if not hasattr(x, '__iter__') else x\n",
    "    \n",
    "    @functools.wraps(f)\n",
    "    def vectorized_f(ts, *args, **kwargs):\n",
    "        ts = ensure_iterable(ts) # Useful for uniformity. Otherwise, calling with a double or integer would fail\n",
    "        results = map(lambda t : f(t, *args, **kwargs), ts)\n",
    "    \n",
    "        # Create tidy output\n",
    "        results_list = list(results) # List of matrices\n",
    "        results_array = np.asarray(results_list).transpose()[0]\n",
    "        \n",
    "        return results_array\n",
    "    \n",
    "    return vectorized_f\n",
    "\n",
    "# TODO: check if this can be done more elegantly with itertools, or at least merge this decorator in one\n",
    "def arrayify_abs(f):\n",
    "    '''Arrayify a function from R into R'''\n",
    "    \n",
    "    def ensure_iterable(x):\n",
    "        '''Coerces single number x into the one-element iterator (x, )'''\n",
    "        return (x,) if not hasattr(x, '__iter__') else x\n",
    "    \n",
    "    @functools.wraps(f)\n",
    "    def vectorized_f(ts, *args, **kwargs):\n",
    "        ts = ensure_iterable(ts) # Useful for uniformity. Otherwise, calling with a double or integer would fail\n",
    "        results = map(lambda t : f(t, *args, **kwargs), ts)\n",
    "    \n",
    "        # Create tidy output\n",
    "        results_list = list(results) # List of matrices\n",
    "        results_array = np.asarray(results_list).transpose() # <-- This is the only difference with arrayify\n",
    "        \n",
    "        return results_array\n",
    "    \n",
    "    return vectorized_f "
   ]
  },
  {
   "cell_type": "markdown",
   "metadata": {},
   "source": [
    "### Calculate the acceleration \"felt\" by the accelerometer\n",
    "\n",
    "The equation\n",
    "\n",
    "$$\n",
    "\\vec a'_{ni}(t) = \\Omega(t) \\left(\\vec a_{i}(t) - \\ddot{\\vec R}_{i}(t) \\right)\n",
    "$$\n",
    "\n",
    "can be coded as\n",
    "\n"
   ]
  },
  {
   "cell_type": "code",
   "execution_count": 3,
   "metadata": {},
   "outputs": [],
   "source": [
    "@arrayify\n",
    "def a_ni(t, \n",
    "         a = lambda t : np.matrix([[0], [-9.8]]),\n",
    "         R = lambda t : np.matrix(([0], [0])), \n",
    "         omega = lambda t : np.identity(2)):\n",
    "    '''Vectorial acceleration in the non-intertial system'''\n",
    "\n",
    "    # Auxiliary functions\n",
    "    def V(t, dx=1e-7, **kwargs):\n",
    "        '''Numerical estimation of relative speed'''\n",
    "        return derivative(R, x0=t, dx=dx, **kwargs)\n",
    "\n",
    "    def A(t, dx=1e-7, **kwargs):\n",
    "        '''Numerical estimation of relative acceleration'''\n",
    "        return derivative(V, x0=t, dx=dx, **kwargs)\n",
    "\n",
    "    # Rotate external acceleration\n",
    "    rot_a = omega(t)*a(t)\n",
    "\n",
    "    # Calculate and rotate relative acceleration\n",
    "    rot_ni = omega(t)*A(t)\n",
    "\n",
    "    # Apply formula\n",
    "    return rot_a - rot_ni"
   ]
  },
  {
   "cell_type": "markdown",
   "metadata": {},
   "source": [
    "the simplified case\n",
    "\n",
    "$$\n",
    "\\left\\lVert \\vec a'(t) \\right\\rVert = \\left\\lVert \\vec a(t) - \\ddot{\\vec R}(t) \\right\\rVert\n",
    "$$\n",
    "\n",
    "can be coded as:"
   ]
  },
  {
   "cell_type": "code",
   "execution_count": 4,
   "metadata": {},
   "outputs": [],
   "source": [
    "@arrayify_abs\n",
    "def a_ni_abs(t, \n",
    "             a = lambda t : np.matrix([[0], [-9.8]]),\n",
    "             R = lambda t : np.matrix(([0], [0]))):\n",
    "    '''Absolute acceleration in the non-intertial system'''\n",
    "    \n",
    "    # Auxiliary functions\n",
    "    def V(t, dx=1e-7, **kwargs):\n",
    "        '''Numerical estimation of relative speed'''\n",
    "        return derivative(R, x0=t, dx=dx, **kwargs)\n",
    "\n",
    "    def A(t, dx=1e-7, **kwargs):\n",
    "        '''Numerical estimation of relative acceleration'''\n",
    "        return derivative(V, x0=t, dx=dx, **kwargs)\n",
    "\n",
    "    return norm(a(t) - A(t))"
   ]
  },
  {
   "cell_type": "markdown",
   "metadata": {},
   "source": [
    "## Play and plot\n",
    "\n",
    "We'll need an auxiliary function to do nice plots. Certainly this can be done in a much more elegant and efficient way using vectorization, but I am feeling to lazy to try that now."
   ]
  },
  {
   "cell_type": "code",
   "execution_count": 5,
   "metadata": {},
   "outputs": [],
   "source": [
    "# The following plotting functions will be handy later\n",
    "def plot_accel(ts, a_ni, a):\n",
    "\n",
    "    accels = arrayify(a)(ts) # If we arrayify this too early, the matrix products inside a_ni will fail\n",
    "    accels_ni = a_ni(ts, a, R, omega)\n",
    "    ndim = len(accels_ni[:, 0]) # Number of dimensions = number of rows\n",
    "\n",
    "    fig, axs = plt.subplots(1, ndim, sharey=True)\n",
    "    fig.suptitle('Vector accelerations')\n",
    "\n",
    "    for i in range(0, ndim):\n",
    "        axs[0].plot(ts, accels[i, ])\n",
    "    for i in range(0, ndim):\n",
    "        axs[1].plot(ts ,accels_ni[i, ])\n",
    "    for i in range(0, 2):\n",
    "        axs[i].set_xlabel('time')\n",
    "    \n",
    "    axs[0].set_title('Intertial frame')\n",
    "    axs[0].set_ylabel('Acceleration')\n",
    "    axs[1].set_title('Non-intertial frame')\n",
    "        \n",
    "def plot_absaccel(ts, a_ni2, a):\n",
    "    \n",
    "    accels = arrayify(a)(ts) # If we arrayify this too early, the matrix products inside a_ni will fail\n",
    "    accels_ni = a_ni_abs(ts, a, R)\n",
    "    \n",
    "    fig, axs = plt.subplots(1, 2, sharey=True)\n",
    "    fig.suptitle('Total accelerations')\n",
    "\n",
    "    axs[0].plot(ts, accels[1, ]) # TODO: actually return the norm per column\n",
    "    axs[1].plot(ts ,accels_ni)\n",
    "    for i in range(0, 2):\n",
    "        axs[i].set_xlabel('time')\n",
    "    \n",
    "    axs[0].set_title('Intertial frame')\n",
    "    axs[0].set_ylabel('Acceleration')\n",
    "    axs[1].set_title('Non-intertial frame')"
   ]
  },
  {
   "cell_type": "markdown",
   "metadata": {},
   "source": [
    "## Example: rectilinear movement with uniform acceleration (free-falling object)\n",
    "\n",
    "In this example we simulate a free-falling object, that is, a rectilinear movement with an acceleration of $(0, -g)$. We see that the measured acceleration is $0$."
   ]
  },
  {
   "cell_type": "code",
   "execution_count": 6,
   "metadata": {},
   "outputs": [
    {
     "data": {
      "image/png": "[encoded data removed]",
      "text/plain": [
       "<Figure size 432x288 with 2 Axes>"
      ]
     },
     "metadata": {
      "needs_background": "light"
     },
     "output_type": "display_data"
    },
    {
     "data": {
      "image/png": "[encoded data removed]",
      "text/plain": [
       "<Figure size 432x288 with 2 Axes>"
      ]
     },
     "metadata": {
      "needs_background": "light"
     },
     "output_type": "display_data"
    }
   ],
   "source": [
    "g = 9.81 # Acceleration of gravity (in m/s^2)\n",
    "\n",
    "def a(t):\n",
    "    '''Acceleration in the inertial system'''\n",
    "    return np.matrix([[.0], \n",
    "                      [-g]])\n",
    "\n",
    "def R(t, R0 = np.matrix([[0],[0]]), v0 = np.matrix([[0],[0]]), a0 = np.matrix([[0],[-g]])):\n",
    "    '''Relative displacement'''  \n",
    "    return R0 + v0 * t + 0.5 * a0 * t**2\n",
    "\n",
    "def omega(t):\n",
    "    '''Relative orientation matrix'''  \n",
    "    return np.identity(2)\n",
    "\n",
    "\n",
    "ts = np.linspace(0, 1)\n",
    "plot_accel(ts, a_ni, a)\n",
    "plot_absaccel(ts, a_ni, a)"
   ]
  },
  {
   "cell_type": "markdown",
   "metadata": {},
   "source": [
    "## Example: rotation in absence of gravity\n",
    "\n",
    "In this case, we don't expect any acceleration in the inertial system, but an outwards-pointing (positive x' axis) acceleration in the rotating one (due to the centrifugal pseudoforce).\n",
    "\n",
    "The intensity of the centrifugal acceleration in a circular movement of radius $R$ and angular speed $\\omega$ is known to be:\n",
    "\n",
    "$$\n",
    "a'(t) = \\omega^2 R\n",
    "$$\n",
    "\n",
    "So, with our current parameters, we expect:\n",
    "\n",
    "$$\n",
    "a'(t) \\approx \\left( 40, 0 \\right) \\frac{m}{s^2}\n",
    "$$"
   ]
  },
  {
   "cell_type": "code",
   "execution_count": 7,
   "metadata": {},
   "outputs": [
    {
     "data": {
      "image/png": "[encoded data removed]",
      "text/plain": [
       "<Figure size 432x288 with 2 Axes>"
      ]
     },
     "metadata": {
      "needs_background": "light"
     },
     "output_type": "display_data"
    },
    {
     "data": {
      "image/png": "[encoded data removed]",
      "text/plain": [
       "<Figure size 432x288 with 2 Axes>"
      ]
     },
     "metadata": {
      "needs_background": "light"
     },
     "output_type": "display_data"
    }
   ],
   "source": [
    "# Parameters\n",
    "R0 = 1 # Radius of rotation\n",
    "w = 2*np.pi # Angular speed\n",
    "\n",
    "def a(t):\n",
    "    '''Acceleration in the inertial system'''\n",
    "    return np.matrix([[.0], \n",
    "                      [.0]])\n",
    "\n",
    "def R(t):\n",
    "    '''Relative displacement'''    \n",
    "    return R0 * np.matrix([[np.cos(w*t)],\n",
    "                           [np.sin(w*t)]])\n",
    "\n",
    "def omega(t):\n",
    "    '''Relative orientation matrix'''\n",
    "    return np.matrix([[+np.cos(w*t), np.sin(w*t)], \n",
    "                      [-np.sin(w*t), np.cos(w*t)]])\n",
    "\n",
    "ts = np.linspace(0, 1)\n",
    "plot_accel(ts, a_ni, a)\n",
    "plot_absaccel(ts, a_ni, a)"
   ]
  },
  {
   "cell_type": "markdown",
   "metadata": {},
   "source": [
    "## Example: rotation and gravity\n",
    "\n",
    "The example above can be modified slightly to introduce gravity. The results start to get interesting."
   ]
  },
  {
   "cell_type": "code",
   "execution_count": 8,
   "metadata": {},
   "outputs": [
    {
     "data": {
      "image/png": "[encoded data removed]",
      "text/plain": [
       "<Figure size 432x288 with 2 Axes>"
      ]
     },
     "metadata": {
      "needs_background": "light"
     },
     "output_type": "display_data"
    },
    {
     "data": {
      "image/png": "[encoded data removed]",
      "text/plain": [
       "<Figure size 432x288 with 2 Axes>"
      ]
     },
     "metadata": {
      "needs_background": "light"
     },
     "output_type": "display_data"
    }
   ],
   "source": [
    "# Parameters\n",
    "g = 9.81 # Gravitational acceleration (unsigned)\n",
    "R0 = .25 # Radius of rotation\n",
    "w = 2*np.pi # Angular speed\n",
    "\n",
    "def a(t):\n",
    "    '''Acceleration in the inertial system'''\n",
    "    return np.matrix([[.0], \n",
    "                      [-g]])\n",
    "\n",
    "def R(t):\n",
    "    '''Relative displacement'''    \n",
    "    return R0 * np.matrix([[np.cos(w*t)],\n",
    "                           [np.sin(w*t)]])\n",
    "\n",
    "def omega(t):\n",
    "    '''Relative orientation matrix'''\n",
    "    return np.matrix([[+np.cos(w*t), np.sin(w*t)], \n",
    "                      [-np.sin(w*t), np.cos(w*t)]])\n",
    "\n",
    "ts = np.linspace(0, 1)\n",
    "plot_accel(ts, a_ni, a)\n",
    "plot_absaccel(ts, a_ni, a)"
   ]
  },
  {
   "cell_type": "markdown",
   "metadata": {},
   "source": [
    "## Example: plane roller-coaster (TODO: work in progress)\n",
    "\n",
    "If our movement traces any arbitrary curve such as:\n",
    "\n",
    "$$\n",
    "\\vec r = \\vec r(t)\n",
    "$$\n",
    "\n",
    "It is easy to prove that the local trihedron is given by:\n",
    "\n",
    "$$\n",
    "\\begin{cases}\n",
    "\\begin{align}\n",
    "\\hat t(t) & = \\frac{1}{v(t)} \\dot{\\vec r}(t) \\\\\n",
    "\\hat b(t) & = \\hat k \\\\\n",
    "\\hat n(t) & = \\hat k \\times \\hat t(t)\n",
    "\\end{align}\n",
    "\\end{cases}\n",
    "$$\n",
    "\n",
    "where the three vectors represent the tangent, binormal and normal directions. For convenience, we have defined:\n",
    "\n",
    "$$\n",
    "v(t) = \\left | \\dot{\\vec r}(t) \\right |\n",
    "$$\n",
    "\n",
    "and\n",
    "\n",
    "$$\n",
    "\\dot{\\vec r}(t) = \\begin{bmatrix} v_x(t) \\\\ v_y(t) \\end{bmatrix}\n",
    "$$\n",
    "\n",
    "The corresponding orientation matrix is thus:\n",
    "\n",
    "$$\n",
    "\\Omega(t) = \\frac{1}{v(t)} \n",
    "            \\begin{bmatrix}\n",
    "                v_x(t) & v_y(t) \\\\\n",
    "                -v_y(t) & v_x(t)\n",
    "            \\end{bmatrix}\n",
    "$$\n",
    "\n",
    "This allows us to write a more automatic version of the previous functions, where the orientation matrix is calculated automatically."
   ]
  },
  {
   "cell_type": "code",
   "execution_count": 9,
   "metadata": {},
   "outputs": [],
   "source": [
    "def a_ni_auto(t, \n",
    "              a = lambda t : np.matrix([[0], [-9.8]]),\n",
    "              R = lambda t : np.matrix(([0], [0]))):\n",
    "    '''Vectorial acceleration in the non-intertial system'''\n",
    "    \n",
    "    # Auxiliary functions\n",
    "    def V(t, dx=1e-7, **kwargs):\n",
    "        '''Numerical estimation of relative speed'''\n",
    "        return derivative(R, x0=t, dx=dx, **kwargs)\n",
    "    \n",
    "    def vx(t):\n",
    "        ''' Component x of velocity'''\n",
    "        return float(V(t)[0]) \n",
    "    \n",
    "    def vy(t):\n",
    "        ''' Component y of velocity'''\n",
    "        return float(V(t)[1]) \n",
    "    \n",
    "    def omega(t):\n",
    "        '''Relative orientation matrix'''\n",
    "        magnitude = np.sqrt(vx(t)**2 + vy(t)**2)\n",
    "        matrix = np.matrix([[vx(t), vy(t)], \n",
    "                            [-vy(t), vx(t)]])\n",
    "        \n",
    "        return 1 / magnitude * matrix \n",
    "    \n",
    "    return a_ni(t, a, R, omega)"
   ]
  },
  {
   "cell_type": "markdown",
   "metadata": {},
   "source": [
    "Let's play with it, simulating, for instance, a sinusoidal roller-coaster:\n",
    "\n",
    "$$\n",
    "\\vec r(t) = \\begin{bmatrix} t \\\\ \\sin(t) \\end{bmatrix}\n",
    "$$"
   ]
  },
  {
   "cell_type": "code",
   "execution_count": 10,
   "metadata": {},
   "outputs": [
    {
     "data": {
      "text/plain": [
       "[<matplotlib.lines.Line2D at 0x7f7d0b2cc5d0>]"
      ]
     },
     "execution_count": 10,
     "metadata": {},
     "output_type": "execute_result"
    },
    {
     "data": {
      "image/png": "[encoded data removed]",
      "text/plain": [
       "<Figure size 432x288 with 1 Axes>"
      ]
     },
     "metadata": {
      "needs_background": "light"
     },
     "output_type": "display_data"
    }
   ],
   "source": [
    "# Parameters\n",
    "g = 9.81 # Gravitational acceleration (unsigned)\n",
    "w = 2*np.pi / 25 # Angular speed\n",
    "\n",
    "def a(t):\n",
    "    '''Acceleration in the inertial system'''\n",
    "    return np.matrix([[.0], \n",
    "                      [-g]]) \n",
    "\n",
    "def R(t):\n",
    "    '''Relative displacement'''    \n",
    "    return np.matrix([[t],\n",
    "                      [np.sin(w*t)]])\n",
    "\n",
    "# Times to plot\n",
    "ts = np.linspace(0, 20, 500)\n",
    "plt.plot(ts, a_ni_auto(ts, a, R)[0, ])\n",
    "plt.plot(ts, a_ni_auto(ts, a, R)[1, ])"
   ]
  },
  {
   "cell_type": "markdown",
   "metadata": {},
   "source": [
    "Or a spiral rollercoaster:\n",
    "\n",
    "$$\n",
    "\\vec r(t) = \\begin{bmatrix} t \\cos(\\omega t) \\\\ t \\sin(\\omega t) \\end{bmatrix}\n",
    "$$"
   ]
  },
  {
   "cell_type": "code",
   "execution_count": 15,
   "metadata": {},
   "outputs": [
    {
     "data": {
      "text/plain": [
       "[<matplotlib.lines.Line2D at 0x7f7d0b66ea90>]"
      ]
     },
     "execution_count": 15,
     "metadata": {},
     "output_type": "execute_result"
    },
    {
     "data": {
      "image/png": "[encoded data removed]",
      "text/plain": [
       "<Figure size 432x288 with 1 Axes>"
      ]
     },
     "metadata": {
      "needs_background": "light"
     },
     "output_type": "display_data"
    }
   ],
   "source": [
    "# Parameters\n",
    "g = 0*9.81 # Gravitational acceleration (unsigned)\n",
    "w = 2*np.pi # Angular speed\n",
    "\n",
    "def a(t):\n",
    "    '''Acceleration in the inertial system'''\n",
    "    return np.matrix([[.0], \n",
    "                      [-g]]) \n",
    "\n",
    "def R(t):\n",
    "    '''Relative displacement'''    \n",
    "    return np.matrix([[t**2 * np.cos(w*t)],\n",
    "                      [t**2 * np.sin(w*t)]])\n",
    "\n",
    "# Times to plot\n",
    "ts = np.linspace(0, 2, 500)\n",
    "plt.plot(ts, a_ni_auto(ts, a, R)[0, ])\n",
    "plt.plot(ts, a_ni_auto(ts, a, R)[1, ])"
   ]
  },
  {
   "cell_type": "markdown",
   "metadata": {},
   "source": [
    "## Testing\n",
    "\n",
    "With the comparing function below we can check that our norm approach is equivalent to the vectorial one"
   ]
  },
  {
   "cell_type": "code",
   "execution_count": 11,
   "metadata": {},
   "outputs": [
    {
     "data": {
      "text/plain": [
       "1.7763568394002505e-15"
      ]
     },
     "execution_count": 11,
     "metadata": {},
     "output_type": "execute_result"
    },
    {
     "data": {
      "image/png": "[encoded data removed]",
      "text/plain": [
       "<Figure size 432x288 with 1 Axes>"
      ]
     },
     "metadata": {
      "needs_background": "light"
     },
     "output_type": "display_data"
    }
   ],
   "source": [
    "# TODO: use vectorized functions to write this test more elegantly\n",
    "def comparer(ts, plot=True):\n",
    "    ''' Compare the absolute accelerations calculated from vector or from norm approaches'''\n",
    "    # Containers for the accelerations\n",
    "    \n",
    "    ## Inertial frame\n",
    "    asx = np.zeros(len(ts)) # x\n",
    "    asy = np.zeros(len(ts)) # y\n",
    "    asa = np.zeros(len(ts)) # Absolute\n",
    "    \n",
    "    ## Non-inertial frame\n",
    "    asnix = np.zeros(len(ts)) # x\n",
    "    asniy = np.zeros(len(ts)) # y\n",
    "    asnia1 = np.zeros(len(ts)) # Absolute (calculated from vectorial)\n",
    "    asnia2 = np.zeros(len(ts)) # Absolute (calculated from norm)\n",
    "    \n",
    "    # Loop and unpack information\n",
    "    for i in range(len(ts)):\n",
    "        accels = a(ts[i])\n",
    "        asx[i] = accels[0]\n",
    "        asy[i] = accels[1]\n",
    "        asa[i] = np.sqrt(accels[0]**2 + accels[1]**2)\n",
    "    \n",
    "        accels_ni = a_ni(ts[i], a, R, omega) # a, R and omega are taken from the environment. Probably not a good practice\n",
    "        asnix[i] = accels_ni[0]\n",
    "        asniy[i] = accels_ni[1]\n",
    "        asnia1[i] = np.sqrt(accels_ni[0]**2 + accels_ni[1]**2)\n",
    "        asnia2[i] = a_ni_abs(ts[i], a, R)\n",
    "    \n",
    "    if plot:\n",
    "        plt.plot(ts, asnia1 - asnia2)\n",
    "    \n",
    "    ## We expect the absolute error to be negligible\n",
    "    absErr = np.max(np.abs(asnia1 - asnia2))\n",
    "    return absErr \n",
    "    \n",
    "ts = np.linspace(0, 1)\n",
    "comparer(ts)"
   ]
  },
  {
   "cell_type": "markdown",
   "metadata": {},
   "source": [
    "## To be continued\n",
    "\n",
    "Check TODOs."
   ]
  }
 ],
 "metadata": {
  "kernelspec": {
   "display_name": "Python 3",
   "language": "python",
   "name": "python3"
  },
  "language_info": {
   "codemirror_mode": {
    "name": "ipython",
    "version": 3
   },
   "file_extension": ".py",
   "mimetype": "text/x-python",
   "name": "python",
   "nbconvert_exporter": "python",
   "pygments_lexer": "ipython3",
   "version": "3.7.7"
  }
 },
 "nbformat": 4,
 "nbformat_minor": 4
}
