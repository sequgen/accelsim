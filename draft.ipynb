{
 "cells": [
  {
   "cell_type": "markdown",
   "metadata": {},
   "source": [
    "# Simulating the recordings of an accelerometer"
   ]
  },
  {
   "cell_type": "markdown",
   "metadata": {},
   "source": [
    "## Problem\n",
    "\n",
    "Given an accelerometer's movement, we want to calculate the readings of its sensors.\n",
    "\n",
    "## Solution\n",
    "\n",
    "It can be proven (see `./docs/draft.pdf`) that the equation governing the accelerations measured by the accelerometer are given by:\n",
    "\n",
    "$$\n",
    "\\vec a'_{ni}(t) = \\Omega(t) \\left(\\vec a_{i}(t) - \\ddot{\\vec R}_{i}(t) \\right)\n",
    "$$\n",
    "\n",
    "where:\n",
    "\n",
    "- $\\vec a'_{ni}(t)$ is the acceleration expressed in the non-inertial coordinate frame of the accelerometer (that is, what the accelerometer registers).\n",
    "- $\\vec a_{i}(t)$ is the acceleration present in the outside, inertial system. Typically this corresponds to the acceleration of gravity.\n",
    "- $\\vec R_{i}(t)$ is the position of the non-inertial system relative to the inertial one.\n",
    "- $\\Omega(t)$ is the rotation matrix governing the base change from the rotated non-inertial frame respective to the inertial one (TODO: check this. Is it not the opposite?).\n",
    "\n",
    "In our notation, all vectors are column vectors. Notice also that we use the subindex $ni$ for coordinates given in the non-inertial system, and the subindex $i$ for those given in the inertial one. Last but not least, we use the notation, very common in mechanics and kinematics, of a double dot over a state to denote its second derivative, i.e.:\n",
    "\n",
    "$$\n",
    "\\ddot f = \\frac{d^2 f}{dt^2}\n",
    "$$\n",
    "\n",
    "### Simplified solution\n",
    "\n",
    "Rotations are extremelly annoying. They force us to work with matrices and, even worse, with rotated coordinate systems. Fortunately, some properties of vectors are independent of the coordinates used. And acceleration is a vector.\n",
    "\n",
    "One of this coordinate-invariant properties is the norm. The norm represents the length of the vector or, in the case of accelerations, its magnitude. The norm is a destructive operation, in the sense that all information about directionality is neglected.\n",
    "\n",
    "It can be proven that, if we take norms at both sides of our previous equation, the following coordinate-independent relationship holds:\n",
    "\n",
    "$$\n",
    "\\left\\lVert \\vec a'(t) \\right\\rVert^2 = \\left\\lVert \\vec a(t) - \\ddot{\\vec R}(t) \\right\\rVert^2\n",
    "$$\n",
    "\n",
    "and thus:\n",
    "\n",
    "$$\n",
    "\\left\\lVert \\vec a'(t) \\right\\rVert = \\left\\lVert \\vec a(t) - \\ddot{\\vec R}(t) \\right\\rVert = \\sqrt{\\left\\lVert \\vec a(t) \\right\\rVert^2 + \\left\\lVert \\ddot{\\vec R}(t) \\right\\rVert^2 - 2 \\vec a(t) \\ddot{\\vec R}(t)}\n",
    "$$"
   ]
  },
  {
   "cell_type": "markdown",
   "metadata": {},
   "source": [
    "## Create input\n",
    "\n",
    "We need to define two things:\n",
    "\n",
    "1. The world in which the accelerometer moves. This is given by the accelerations that exist on it (typically gravitation). We'll code this in the object `a`.\n",
    "2. The way the accelerometer moves, given by the objects `R` (for displacement) and `omega` (for rotations).\n",
    "\n",
    "Please note that `a` and `R` are functions of time that return column vectors, and `omega` is a function of time that returns a square matrix with the same dimensionality as the vectors (i.e.: $2 \\times 2$ for plane vectors, $3 \\times 3$ for spatial vectors).\n",
    "\n",
    "### Example: rectilinear movement with uniform acceleration\n",
    "\n",
    "In this case the corresponding displacement is:\n",
    "\n",
    "$$\n",
    "\\vec R(t) = \\vec R_0 + \\vec v_0 t + \\frac{1}{2} \\vec{a_0} t^2\n",
    "$$\n",
    "\n",
    "where $\\vec R_0$ is the initial position, $\\vec v_0$ the initial velocity and $\\vec a_0$ the constant acceleration.\n",
    "\n",
    "The movement is rectilinear, so there is no rotation:\n",
    "\n",
    "$$\n",
    "\\Omega(t) = \\mathbb{I}\n",
    "$$\n",
    "\n",
    "In Python terms, we can write:\n",
    "\n",
    "```python\n",
    "def R(t, R0 = np.matrix([[0],[0]]), v0 = np.matrix([[0],[0]]), a0 = np.matrix([[0],[-9.81]])):\n",
    "    return(R0 + v0 * t + 0.5 * a0 * t**2)\n",
    "```\n",
    "\n",
    "```python\n",
    "def omega(t):\n",
    "    return(np.identity(2))\n",
    "```\n",
    "\n",
    "### Example: uniform circular movement without frame rotation\n",
    "\n",
    "The displacement for a circular movement is given by:\n",
    "\n",
    "$$\n",
    "\\vec R(t) = R_0 \\begin{bmatrix} \n",
    "                     \\cos(\\omega t) \\\\\n",
    "                     \\sin(\\omega t)\n",
    "                \\end{bmatrix}\n",
    "$$\n",
    "\n",
    "where $R_0$ is the radius and $\\omega$ the angular speed.\n",
    "\n",
    "As in the example above, it there is no rotation we have $\\Omega(t) = \\mathbb{I}$.\n",
    "\n",
    "In Python:\n",
    "\n",
    "```python\n",
    "def R(t, R0 = 1, w = 2*np.pi):\n",
    "    return(R0 * np.matrix([[np.cos(w*t)],\n",
    "                           [np.sin(w*t)]]))\n",
    "```\n",
    "\n",
    "```python\n",
    "def omega(t):\n",
    "    return(np.identity(2))\n",
    "```\n",
    "\n",
    "### Example: uniform circular movement with frame rotation\n",
    "\n",
    "If our non-inertial frame of reference rotates synchronously with the displacement, the rotation matrix becomes:\n",
    "\n",
    "$$\n",
    "\\Omega(t) = \\begin{bmatrix}\n",
    "                \\cos(\\omega t) & \\sin(\\omega t) \\\\\n",
    "                -\\sin(\\omega t) & \\cos(\\omega t)\n",
    "            \\end{bmatrix}\n",
    "$$\n",
    "\n",
    "In Python:\n",
    "\n",
    "```python\n",
    "def R(t, R0 = 1, w = 2*np.pi):\n",
    "    return(R0 * np.matrix([[np.cos(w*t)],\n",
    "                           [np.sin(w*t)]]))\n",
    "```\n",
    "\n",
    "```python\n",
    "def omega(t):\n",
    "    return(np.matrix([[+np.cos(w*t), np.sin(w*t)], \n",
    "                      [-np.sin(w*t), np.cos(w*t)]]))\n",
    "```"
   ]
  },
  {
   "cell_type": "markdown",
   "metadata": {},
   "source": [
    "## Code it"
   ]
  },
  {
   "cell_type": "markdown",
   "metadata": {},
   "source": [
    "### Install dependencies"
   ]
  },
  {
   "cell_type": "code",
   "execution_count": 1,
   "metadata": {},
   "outputs": [],
   "source": [
    "import numpy as np\n",
    "import matplotlib.pyplot as plt\n",
    "from scipy.misc import derivative\n",
    "from scipy.linalg import norm"
   ]
  },
  {
   "cell_type": "markdown",
   "metadata": {},
   "source": [
    "### Calculate the acceleration \"felt\" by the accelerometer\n",
    "\n",
    "The equation\n",
    "\n",
    "$$\n",
    "\\vec a'_{ni}(t) = \\Omega(t) \\left(\\vec a_{i}(t) - \\ddot{\\vec R}_{i}(t) \\right)\n",
    "$$\n",
    "\n",
    "can be coded as\n",
    "\n"
   ]
  },
  {
   "cell_type": "code",
   "execution_count": 11,
   "metadata": {},
   "outputs": [],
   "source": [
    "def ensure_iterable(x):\n",
    "    '''Turns a single number 1 into the one-element iterator (1, )'''\n",
    "    return (x,) if not hasattr(x, '__iter__') else x\n",
    "\n",
    "def a_ni(t, a = lambda t : np.matrix([[0], [-9.8]]),\n",
    "            R = lambda t : np.matrix(([0], [0])), \n",
    "            omega = lambda t : np.identity(2)):\n",
    "    '''Vectorial acceleration in the non-intertial system'''\n",
    "    \n",
    "    # Auxiliary functions\n",
    "    def V(t, dx=1e-7, **kwargs):\n",
    "        '''Numerical estimation of relative speed'''\n",
    "        return(derivative(R, x0=t, dx=dx, **kwargs))\n",
    "\n",
    "    def A(t, dx=1e-7, **kwargs):\n",
    "        '''Numerical estimation of relative acceleration'''\n",
    "        return(derivative(V, x0=t, dx=dx, **kwargs))\n",
    "    \n",
    "    # Rotate external acceleration\n",
    "    rot_a = omega(t)*a(t)\n",
    "    \n",
    "    # Calculate and rotate relative acceleration\n",
    "    rot_ni = omega(t)*A(t)\n",
    "    \n",
    "    # Apply formula\n",
    "    return(rot_a - rot_ni)\n",
    "\n",
    "def a_nis(ts,\n",
    "          a = lambda t : np.matrix([[0], [-9.8]]),\n",
    "          R = lambda t : np.matrix(([0], [0])), \n",
    "          omega = lambda t : np.identity(2)):\n",
    "    '''Vectorized version of a_ni'''\n",
    "    \n",
    "    ts = ensure_iterable(ts)\n",
    "    results = map(lambda t : a_ni(t, a, R, omega), ts)\n",
    "    \n",
    "    return(list(results))"
   ]
  },
  {
   "cell_type": "markdown",
   "metadata": {},
   "source": [
    "the simplified case\n",
    "\n",
    "$$\n",
    "\\left\\lVert \\vec a'(t) \\right\\rVert = \\left\\lVert \\vec a(t) - \\ddot{\\vec R}(t) \\right\\rVert\n",
    "$$\n",
    "\n",
    "can be coded as:"
   ]
  },
  {
   "cell_type": "code",
   "execution_count": 13,
   "metadata": {},
   "outputs": [
    {
     "data": {
      "text/plain": [
       "[matrix([[ 0. ],\n",
       "         [-9.8]]),\n",
       " matrix([[ 0. ],\n",
       "         [-9.8]]),\n",
       " matrix([[ 0. ],\n",
       "         [-9.8]])]"
      ]
     },
     "execution_count": 13,
     "metadata": {},
     "output_type": "execute_result"
    }
   ],
   "source": [
    "def a_ni2(t, a = lambda t : np.matrix([[0], [-9.8]]),\n",
    "             R = lambda t : np.matrix(([0], [0]))):\n",
    "    '''Absolute acceleration in the non-intertial system'''\n",
    "    \n",
    "    # Auxiliary functions\n",
    "    def V(t, dx=1e-7, **kwargs):\n",
    "        '''Numerical estimation of relative speed'''\n",
    "        return(derivative(R, x0=t, dx=dx, **kwargs))\n",
    "\n",
    "    def A(t, dx=1e-7, **kwargs):\n",
    "        '''Numerical estimation of relative acceleration'''\n",
    "        return(derivative(V, x0=t, dx=dx, **kwargs))\n",
    "\n",
    "    return(norm(a(t) - A(t)))\n",
    "\n",
    "def a_ni2s(ts,\n",
    "           a = lambda t : np.matrix([[0], [-9.8]]),\n",
    "           R = lambda t : np.matrix(([0], [0])), \n",
    "           omega = lambda t : np.identity(2)):\n",
    "    '''Vectorized version of a_ni2'''\n",
    "    \n",
    "    results = map(lambda t : a_ni2(t, a, R), ts)\n",
    "    \n",
    "    return(list(results))"
   ]
  },
  {
   "cell_type": "markdown",
   "metadata": {},
   "source": [
    "## Play and plot\n",
    "\n",
    "We'll need an auxiliary function to do nice plots. Certainly this can be done in a much more elegant and efficient way using vectorization, but I am feeling to lazy to try that now."
   ]
  },
  {
   "cell_type": "code",
   "execution_count": 4,
   "metadata": {},
   "outputs": [],
   "source": [
    "def auxiliary_plotter(ts):\n",
    "    '''Evaluate and plot vectorial accelerations for a given times vector'''\n",
    "    \n",
    "    # Containers for the accelerations\n",
    "    asx = np.zeros(len(ts)) # In the inertial ...\n",
    "    asy = np.zeros(len(ts))\n",
    "    asnix = np.zeros(len(ts)) # ... and non inertial frame\n",
    "    asniy = np.zeros(len(ts))\n",
    "\n",
    "    # Loop and unpack information\n",
    "    for i in range(len(ts)):\n",
    "        accels = a(ts[i])\n",
    "        asx[i] = accels[0]\n",
    "        asy[i] = accels[1]\n",
    "    \n",
    "        accels_ni = a_ni(ts[i], a, R, omega) # a, R and omega are taken from the environment. Probably not a good practice\n",
    "        asnix[i] = accels_ni[0]\n",
    "        asniy[i] = accels_ni[1]\n",
    "        \n",
    "    fig, axs = plt.subplots(1, 2, sharey=True)\n",
    "    fig.suptitle('Accelerations')\n",
    "\n",
    "    axs[0].set_title('Inertial frame')\n",
    "    axs[0].set_ylabel('accel')\n",
    "    axs[0].plot(ts, asx, label = 'x')\n",
    "    axs[0].plot(ts, asy, label = 'y')\n",
    "    \n",
    "\n",
    "    axs[1].set_title('Non-inertial frame')\n",
    "    axs[1].plot(ts, asnix, label = 'x')\n",
    "    axs[1].plot(ts, asniy, label = 'y')\n",
    "\n",
    "    axs[0].legend()\n",
    "\n",
    "    for ax in axs.flat:\n",
    "        ax.set_xlabel('time')"
   ]
  },
  {
   "cell_type": "markdown",
   "metadata": {},
   "source": [
    "## Example: rectilinear movement with uniform acceleration (free-falling object)\n",
    "\n",
    "In this example we simulate a free-falling object, that is, a rectilinear movement with an acceleration of $(0, -g)$. We see that the measured acceleration is $0$."
   ]
  },
  {
   "cell_type": "code",
   "execution_count": 7,
   "metadata": {},
   "outputs": [
    {
     "ename": "TypeError",
     "evalue": "'function' object is not iterable",
     "output_type": "error",
     "traceback": [
      "\u001b[0;31m---------------------------------------------------------------------------\u001b[0m",
      "\u001b[0;31mTypeError\u001b[0m                                 Traceback (most recent call last)",
      "\u001b[0;32m<ipython-input-7-24571fffd5eb>\u001b[0m in \u001b[0;36m<module>\u001b[0;34m\u001b[0m\n\u001b[1;32m     16\u001b[0m \u001b[0;31m# Times to plot\u001b[0m\u001b[0;34m\u001b[0m\u001b[0;34m\u001b[0m\u001b[0;34m\u001b[0m\u001b[0m\n\u001b[1;32m     17\u001b[0m \u001b[0mts\u001b[0m \u001b[0;34m=\u001b[0m \u001b[0mnp\u001b[0m\u001b[0;34m.\u001b[0m\u001b[0mlinspace\u001b[0m\u001b[0;34m(\u001b[0m\u001b[0;36m0\u001b[0m\u001b[0;34m,\u001b[0m \u001b[0;36m1\u001b[0m\u001b[0;34m)\u001b[0m\u001b[0;34m\u001b[0m\u001b[0;34m\u001b[0m\u001b[0m\n\u001b[0;32m---> 18\u001b[0;31m \u001b[0mlist\u001b[0m\u001b[0;34m(\u001b[0m\u001b[0mmap\u001b[0m\u001b[0;34m(\u001b[0m\u001b[0ma_ni\u001b[0m\u001b[0;34m,\u001b[0m \u001b[0mts\u001b[0m\u001b[0;34m,\u001b[0m \u001b[0ma\u001b[0m\u001b[0;34m,\u001b[0m \u001b[0mR\u001b[0m\u001b[0;34m,\u001b[0m \u001b[0momega\u001b[0m\u001b[0;34m)\u001b[0m\u001b[0;34m)\u001b[0m\u001b[0;34m\u001b[0m\u001b[0;34m\u001b[0m\u001b[0m\n\u001b[0m\u001b[1;32m     19\u001b[0m \u001b[0;34m\u001b[0m\u001b[0m\n\u001b[1;32m     20\u001b[0m \u001b[0;31m# auxiliary_plotter(ts)\u001b[0m\u001b[0;34m\u001b[0m\u001b[0;34m\u001b[0m\u001b[0;34m\u001b[0m\u001b[0m\n",
      "\u001b[0;31mTypeError\u001b[0m: 'function' object is not iterable"
     ]
    }
   ],
   "source": [
    "g = 9.81 # Acceleration of gravity (in m/s^2)\n",
    "\n",
    "def a(t):\n",
    "    '''Acceleration in the inertial system'''\n",
    "    return(np.matrix([[.0], \n",
    "                      [-g]]))\n",
    "\n",
    "def R(t, R0 = np.matrix([[0],[0]]), v0 = np.matrix([[0],[0]]), a0 = np.matrix([[0],[-g]])):\n",
    "    '''Relative displacement'''  \n",
    "    return(R0 + v0 * t + 0.5 * a0 * t**2)\n",
    "\n",
    "def omega(t):\n",
    "    '''Relative rotation matrix'''  \n",
    "    return(np.identity(2))\n",
    "\n",
    "# Times to plot\n",
    "ts = np.linspace(0, 1)\n",
    "auxiliary_plotter(ts)"
   ]
  },
  {
   "cell_type": "markdown",
   "metadata": {},
   "source": [
    "## Example: rotation in absence of gravity\n",
    "\n",
    "In this case, we don't expect any acceleration in the inertial system, but an outwards-pointing (positive x' axis) acceleration in the rotating one (due to the centrifugal pseudoforce).\n",
    "\n",
    "The intensity of the centrifugal acceleration in a circular movement of radius $R$ and angular speed $\\omega$ is known to be:\n",
    "\n",
    "$$\n",
    "a'(t) = \\omega^2 R\n",
    "$$\n",
    "\n",
    "So, with our current parameters, we expect:\n",
    "\n",
    "$$\n",
    "a'(t) \\approx \\left( 40, 0 \\right) \\frac{m}{s^2}\n",
    "$$"
   ]
  },
  {
   "cell_type": "code",
   "execution_count": 6,
   "metadata": {},
   "outputs": [
    {
     "data": {
      "image/png": "[encoded data removed]",
      "text/plain": [
       "<Figure size 432x288 with 2 Axes>"
      ]
     },
     "metadata": {
      "needs_background": "light"
     },
     "output_type": "display_data"
    }
   ],
   "source": [
    "# Parameters\n",
    "R0 = 1 # Radius of rotation\n",
    "w = 2*np.pi # Angular speed\n",
    "\n",
    "def a(t):\n",
    "    '''Acceleration in the inertial system'''\n",
    "    return(np.matrix([[.0], \n",
    "                      [.0]]))\n",
    "\n",
    "def R(t):\n",
    "    '''Relative displacement'''    \n",
    "    return(R0 * np.matrix([[np.cos(w*t)],\n",
    "                           [np.sin(w*t)]]))\n",
    "\n",
    "def omega(t):\n",
    "    '''Relative rotation matrix'''\n",
    "    return(np.matrix([[+np.cos(w*t), np.sin(w*t)], \n",
    "                      [-np.sin(w*t), np.cos(w*t)]]))\n",
    "\n",
    "# Times to plot\n",
    "ts = np.linspace(0, 1)\n",
    "auxiliary_plotter(ts)"
   ]
  },
  {
   "cell_type": "markdown",
   "metadata": {},
   "source": [
    "## Example: rotation and gravity\n",
    "\n",
    "The example above can be modified slightly to introduce gravity. The results start to get interesting."
   ]
  },
  {
   "cell_type": "code",
   "execution_count": 7,
   "metadata": {},
   "outputs": [
    {
     "data": {
      "image/png": "[encoded data removed]",
      "text/plain": [
       "<Figure size 432x288 with 2 Axes>"
      ]
     },
     "metadata": {
      "needs_background": "light"
     },
     "output_type": "display_data"
    }
   ],
   "source": [
    "# Parameters\n",
    "g = 9.81 # Gravitational acceleration (unsigned)\n",
    "R0 = 1 # Radius of rotation\n",
    "w = 2*np.pi # Angular speed\n",
    "\n",
    "def a(t):\n",
    "    '''Acceleration in the inertial system'''\n",
    "    return(np.matrix([[.0], \n",
    "                      [-g]]))\n",
    "\n",
    "def R(t):\n",
    "    '''Relative displacement'''    \n",
    "    return(R0 * np.matrix([[np.cos(w*t)],\n",
    "                           [np.sin(w*t)]]))\n",
    "\n",
    "def omega(t):\n",
    "    '''Relative rotation matrix'''\n",
    "    return(np.matrix([[+np.cos(w*t), np.sin(w*t)], \n",
    "                      [-np.sin(w*t), np.cos(w*t)]]))\n",
    "\n",
    "# Times to plot\n",
    "ts = np.linspace(0, 1)\n",
    "auxiliary_plotter(ts)"
   ]
  },
  {
   "cell_type": "markdown",
   "metadata": {},
   "source": [
    "## Example: plane roller-coaster (TODO: work in progress)\n",
    "\n",
    "If our movement traces any arbitrary curve such as:\n",
    "\n",
    "$$\n",
    "\\vec r = \\vec r(t)\n",
    "$$\n",
    "\n",
    "It is easy to prove that the local trihedron is given by:\n",
    "\n",
    "$$\n",
    "\\begin{cases}\n",
    "\\begin{align}\n",
    "\\hat t(t) & = \\frac{1}{v(t)} \\dot{\\vec r}(t) \\\\\n",
    "\\hat b(t) & = \\hat k \\\\\n",
    "\\hat n(t) & = \\hat k \\times \\hat t(t)\n",
    "\\end{align}\n",
    "\\end{cases}\n",
    "$$\n",
    "\n",
    "where the three vectors represent the tangent, binormal and normal directions. For convenience, we have defined:\n",
    "\n",
    "$$\n",
    "v(t) = \\left | \\dot{\\vec r}(t) \\right |\n",
    "$$\n",
    "\n",
    "and\n",
    "\n",
    "$$\n",
    "\\dot{\\vec r}(t) = \\begin{bmatrix} v_x(t) \\\\ v_y(t) \\end{bmatrix}\n",
    "$$\n",
    "\n",
    "The corresponding rotation matrix is thus:\n",
    "\n",
    "$$\n",
    "\\Omega(t) = \\frac{1}{v(t)} \n",
    "            \\begin{bmatrix}\n",
    "                v_x(t) & v_y(t) \\\\\n",
    "                -v_y(t) & v_x(t)\n",
    "            \\end{bmatrix}\n",
    "$$\n",
    "\n",
    "This allows us to write a more automatic version of the previous functions, where the rotation matrix is calculated automatically."
   ]
  },
  {
   "cell_type": "code",
   "execution_count": 8,
   "metadata": {},
   "outputs": [],
   "source": [
    "def a_ni_auto(t, a = lambda t : np.matrix([[0], [-9.8]]),\n",
    "              R = lambda t : np.matrix(([0], [0]))):\n",
    "    '''Vectorial acceleration in the non-intertial system'''\n",
    "    \n",
    "    # Auxiliary functions\n",
    "    def V(t, dx=1e-7, **kwargs):\n",
    "        '''Numerical estimation of relative speed'''\n",
    "        return(derivative(R, x0=t, dx=dx, **kwargs))\n",
    "\n",
    "    def A(t, dx=1e-7, **kwargs):\n",
    "        '''Numerical estimation of relative acceleration'''\n",
    "        return(derivative(V, x0=t, dx=dx, **kwargs))\n",
    "    \n",
    "    def vx(t):\n",
    "        ''' Component x of velocity'''\n",
    "        return(float(V(t)[0]))\n",
    "    \n",
    "    def vy(t):\n",
    "        ''' Component y of velocity'''\n",
    "        return(float(V(t)[1]))\n",
    "    \n",
    "    def omega(t):\n",
    "        '''Relative rotation matrix'''\n",
    "        magnitude = np.sqrt(vx(t)**2 + vy(t)**2)\n",
    "        matrix = np.matrix([[vx(t), vy(t)], \n",
    "                            [-vy(t), vx(t)]])\n",
    "        \n",
    "        return(1 / magnitude * matrix)\n",
    "        \n",
    "    \n",
    "    # Rotate external acceleration\n",
    "    rot_a = omega(t)*a(t)\n",
    "    \n",
    "    # Calculate and rotate relative acceleration\n",
    "    rot_ni = omega(t)*A(t)\n",
    "    \n",
    "    # Apply formula\n",
    "    return(rot_a - rot_ni)"
   ]
  },
  {
   "cell_type": "markdown",
   "metadata": {},
   "source": [
    "We also have to update the auxiliary plotter (more elegant implementations will follow)."
   ]
  },
  {
   "cell_type": "code",
   "execution_count": 9,
   "metadata": {},
   "outputs": [],
   "source": [
    "def auxiliary_plotter_auto(ts):\n",
    "    '''Evaluate and plot vectorial accelerations for a given times vector'''\n",
    "    \n",
    "    # Containers for the accelerations\n",
    "    asx = np.zeros(len(ts)) # In the inertial ...\n",
    "    asy = np.zeros(len(ts))\n",
    "    asnix = np.zeros(len(ts)) # ... and non inertial frame\n",
    "    asniy = np.zeros(len(ts))\n",
    "    xs = np.zeros(len(ts))\n",
    "    ys = np.zeros(len(ts))\n",
    "\n",
    "    # Loop and unpack information\n",
    "    for i in range(len(ts)):\n",
    "        accels = a(ts[i])\n",
    "        asx[i] = accels[0]\n",
    "        asy[i] = accels[1]\n",
    "    \n",
    "        accels_ni = a_ni_auto(ts[i], a, R) # a, R and omega are taken from the environment. Probably not a good practice\n",
    "        asnix[i] = accels_ni[0]\n",
    "        asniy[i] = accels_ni[1]\n",
    "        \n",
    "        xs[i] = float(R(ts[i])[0])\n",
    "        ys[i] = float(R(ts[i])[1])\n",
    "        \n",
    "    fig, axs = plt.subplots(3, 1, sharey=True)\n",
    "    fig.suptitle('Plane roller-coaster')\n",
    "\n",
    "    axs[0].set_title('Inertial frame')\n",
    "    axs[0].set_ylabel('accel')\n",
    "    axs[0].plot(ts, asx, label = 'x')\n",
    "    axs[0].plot(ts, asy, label = 'y')\n",
    "    \n",
    "\n",
    "    axs[1].set_title('Non-inertial frame')\n",
    "    axs[1].plot(ts, asnix, label = 'x')\n",
    "    axs[1].plot(ts, asniy, label = 'y')\n",
    "    \n",
    "    axs[2].set_title('Trajectory')\n",
    "    #axs[2].plot(ts, xs, label = 'x')\n",
    "    axs[2].plot(ts, ys, label = 'y')\n",
    "\n",
    "    axs[0].legend()\n",
    "\n",
    "    for ax in axs.flat:\n",
    "        ax.set_xlabel('time')"
   ]
  },
  {
   "cell_type": "markdown",
   "metadata": {},
   "source": [
    "Let's play with it, simulating, for instance, a sinusoidal roller-coaster:\n",
    "\n",
    "$$\n",
    "\\vec r(t) = \\begin{bmatrix} t \\\\ \\sin(t) \\end{bmatrix}\n",
    "$$"
   ]
  },
  {
   "cell_type": "code",
   "execution_count": 10,
   "metadata": {},
   "outputs": [
    {
     "data": {
      "image/png": "[encoded data removed]",
      "text/plain": [
       "<Figure size 432x288 with 3 Axes>"
      ]
     },
     "metadata": {
      "needs_background": "light"
     },
     "output_type": "display_data"
    }
   ],
   "source": [
    "# Parameters\n",
    "g = 9.81 # Gravitational acceleration (unsigned)\n",
    "w = 2*np.pi / 25 # Angular speed\n",
    "\n",
    "def a(t):\n",
    "    '''Acceleration in the inertial system'''\n",
    "    return(np.matrix([[.0], \n",
    "                      [-g]]))\n",
    "\n",
    "def R(t):\n",
    "    '''Relative displacement'''    \n",
    "    return(np.matrix([[t],\n",
    "                      [np.sin(w*t)]]))\n",
    "\n",
    "# Times to plot\n",
    "ts = np.linspace(0, 20, 500)\n",
    "auxiliary_plotter_auto(ts)\n"
   ]
  },
  {
   "cell_type": "markdown",
   "metadata": {},
   "source": [
    "## Testing\n",
    "\n",
    "With the comparing function below we can check that our norm approach is equivalent to the vectorial one"
   ]
  },
  {
   "cell_type": "code",
   "execution_count": 11,
   "metadata": {},
   "outputs": [
    {
     "data": {
      "text/plain": [
       "1.7763568394002505e-15"
      ]
     },
     "execution_count": 11,
     "metadata": {},
     "output_type": "execute_result"
    },
    {
     "data": {
      "image/png": "[encoded data removed]",
      "text/plain": [
       "<Figure size 432x288 with 1 Axes>"
      ]
     },
     "metadata": {
      "needs_background": "light"
     },
     "output_type": "display_data"
    }
   ],
   "source": [
    "def comparer(ts, plot=True):\n",
    "    ''' Compare the absolute accelerations calculated from vector or from norm approaches'''\n",
    "    # Containers for the accelerations\n",
    "    \n",
    "    ## Inertial frame\n",
    "    asx = np.zeros(len(ts)) # x\n",
    "    asy = np.zeros(len(ts)) # y\n",
    "    asa = np.zeros(len(ts)) # Absolute\n",
    "    \n",
    "    ## Non-inertial frame\n",
    "    asnix = np.zeros(len(ts)) # x\n",
    "    asniy = np.zeros(len(ts)) # y\n",
    "    asnia1 = np.zeros(len(ts)) # Absolute (calculated from vectorial)\n",
    "    asnia2 = np.zeros(len(ts)) # Absolute (calculated from norm)\n",
    "    \n",
    "    # Loop and unpack information\n",
    "    for i in range(len(ts)):\n",
    "        accels = a(ts[i])\n",
    "        asx[i] = accels[0]\n",
    "        asy[i] = accels[1]\n",
    "        asa[i] = np.sqrt(accels[0]**2 + accels[1]**2)\n",
    "    \n",
    "        accels_ni = a_ni(ts[i], a, R, omega) # a, R and omega are taken from the environment. Probably not a good practice\n",
    "        asnix[i] = accels_ni[0]\n",
    "        asniy[i] = accels_ni[1]\n",
    "        asnia1[i] = np.sqrt(accels_ni[0]**2 + accels_ni[1]**2)\n",
    "        asnia2[i] = a_ni2(ts[i], a, R)\n",
    "    \n",
    "    if plot:\n",
    "        plt.plot(ts, asnia1 - asnia2)\n",
    "    \n",
    "    ## We expect the absolute error to be negligible\n",
    "    absErr = np.max(np.abs(asnia1 - asnia2))\n",
    "    return(absErr)\n",
    "    \n",
    "ts = np.linspace(0, 1)\n",
    "comparer(ts)"
   ]
  },
  {
   "cell_type": "markdown",
   "metadata": {},
   "source": [
    "## To be continued\n",
    "\n",
    "Plot some absolute accelerations with something like the function below.\n",
    "\n",
    "```python\n",
    "def auxiliary_plotter2(ts):\n",
    "    '''Evaluate and plot absolute accelerations for a given times vector'''\n",
    "    \n",
    "    # Container for the absolute acceleration in the non inertial frame\n",
    "    asnia = np.zeros(len(ts))\n",
    "    \n",
    "    # Loop and unpack information\n",
    "    for i in range(len(ts)):\n",
    "        asnia[i] = a_ni2(ts[i], a, R)\n",
    "        \n",
    "    plt.plot(ts, asnia)\n",
    "    plt.title('Absolute acceleration in the non-inertial frame')\n",
    "```\n",
    "\n",
    "Think about vectorizing / beautifying the process in some way. Perhaps a decorator?"
   ]
  }
 ],
 "metadata": {
  "kernelspec": {
   "display_name": "Python 3",
   "language": "python",
   "name": "python3"
  },
  "language_info": {
   "codemirror_mode": {
    "name": "ipython",
    "version": 3
   },
   "file_extension": ".py",
   "mimetype": "text/x-python",
   "name": "python",
   "nbconvert_exporter": "python",
   "pygments_lexer": "ipython3",
   "version": "3.7.7"
  }
 },
 "nbformat": 4,
 "nbformat_minor": 4
}
