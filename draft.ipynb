{
 "cells": [
  {
   "cell_type": "markdown",
   "metadata": {},
   "source": [
    "# Simulating the recordings of an accelerometer"
   ]
  },
  {
   "cell_type": "markdown",
   "metadata": {},
   "source": [
    "## Install dependencies"
   ]
  },
  {
   "cell_type": "code",
   "execution_count": 1,
   "metadata": {},
   "outputs": [],
   "source": [
    "import numpy as np\n",
    "import matplotlib.pyplot as plt\n",
    "from scipy.misc import derivative"
   ]
  },
  {
   "cell_type": "markdown",
   "metadata": {},
   "source": [
    "## Problem\n",
    "\n",
    "Given an accelerometer's movement, we want to calculate the readings of its sensors.\n",
    "\n",
    "## Solution\n",
    "\n",
    "It can be proven (see `./docs/draft.pdf`) that the equation governing the accelerations measured by the accelerometer are given by:\n",
    "\n",
    "$$\n",
    "\\vec a'_{ni}(t) = \\Omega(t) \\left(\\vec a_{i}(t) - \\ddot{\\vec R}_{i}(t) \\right)\n",
    "$$\n",
    "\n",
    "where:\n",
    "\n",
    "- $\\vec a'_{ni}(t)$ is the acceleration expressed in the non-inertial coordinate frame of the accelerometer (that is, what the accelerometer registers).\n",
    "- $\\vec a_{i}(t)$ is the acceleration present in the outside, inertial system. Typically this corresponds to the acceleration of gravity.\n",
    "- $\\vec R_{i}(t)$ is the position of the non-inertial system relative to the inertial one.\n",
    "- $\\Omega(t)$ is the rotation matrix governing the base change from the rotated non-inertial frame respective to the inertial one.\n",
    "\n",
    "In our notation, all vectors are column vectors. Notice also that we use the subindex $ni$ for coordinates given in the non-inertial system, and the subindex $i$ for those given in the inertial one. Last but not least, we use the notation, very common in mechanics and kinematics, of a double dot over a state to denote its second derivative, i.e.:\n",
    "\n",
    "$$\n",
    "\\ddot f = \\frac{d^2 f}{dt^2}\n",
    "$$\n",
    "\n",
    "### Simplified solution\n",
    "\n",
    "Rotations are extremelly annoying. They force us to work with matrices and, even worse, with rotated coordinate systems. Fortunately, some properties of vectors are independent of the coordinates used. And acceleration is a vector.\n",
    "\n",
    "One of this coordinate-invariant properties is the norm. The norm represents the length of the vector or, in the case of accelerations, its magnitude. The norm is a destructive operation, in the sense that all information about directionality is neglected.\n",
    "\n",
    "It can be proven that, if we take norms at both sides of our previous equation, the following coordinate-independent relationship holds:\n",
    "\n",
    "$$\n",
    "\\left\\lVert \\vec a'(t) \\right\\rVert^2 = \\left\\lVert \\vec a(t) - \\ddot{\\vec R}(t) \\right\\rVert^2 = \\left\\lVert \\vec a(t) \\right\\rVert^2 + \\left\\lVert \\ddot{\\vec R}(t) \\right\\rVert^2 - 2 \\vec a(t) \\ddot{\\vec R}(t)\n",
    "$$"
   ]
  },
  {
   "cell_type": "markdown",
   "metadata": {},
   "source": [
    "## Create input\n",
    "\n",
    "We need to define two things:\n",
    "\n",
    "1. The world in which the accelerometer moves. This is given by the accelerations that exist on it (typically gravitation). We'll code this in the object `a`.\n",
    "2. The way the accelerometer moves, given by the objects `R` (for displacement) and `omega` (for rotations).\n",
    "\n",
    "Please note that `a` and `R` are functions of time that return column vectors, and `omega` is a function of time that returns a square matrix with the same dimensionality as the vectors (i.e.: $2 \\times 2$ for plane vectors, $3 \\times 3$ for spatial vectors).\n",
    "\n",
    "### Example: rectilinear movement with uniform acceleration\n",
    "\n",
    "In this case the corresponding displacement is:\n",
    "\n",
    "$$\n",
    "\\vec R(t) = \\vec R_0 + \\vec v_0 t + \\frac{1}{2} \\vec{a_0} t^2\n",
    "$$\n",
    "\n",
    "where $\\vec R_0$ is the initial position, $\\vec v_0$ the initial velocity and $\\vec a_0$ the constant acceleration.\n",
    "\n",
    "The movement is rectilinear, so there is no rotation:\n",
    "\n",
    "$$\n",
    "\\Omega(t) = \\mathbb{I}\n",
    "$$\n",
    "\n",
    "In Python terms, we can write:\n",
    "\n",
    "```python\n",
    "def R(t, R0 = np.matrix([[0],[0]]), v0 = np.matrix([[0],[0]]), a0 = np.matrix([0],[-9.81])):\n",
    "    return(R0 + v0 * t + 0.5 * a0 * t**2)\n",
    "```\n",
    "\n",
    "```python\n",
    "def omega(t):\n",
    "    return(np.identity(2))\n",
    "```\n",
    "\n",
    "### Example: uniform circular movement without frame rotation\n",
    "\n",
    "The displacement for a circular movement is given by:\n",
    "\n",
    "$$\n",
    "\\vec R(t) = R_0 \\begin{bmatrix} \n",
    "                     \\cos(\\omega t) \\\\\n",
    "                     \\sin(\\omega t)\n",
    "                \\end{bmatrix}\n",
    "$$\n",
    "\n",
    "where $R_0$ is the radius and $\\omega$ the angular speed.\n",
    "\n",
    "As in the example above, it there is no rotation we have $\\Omega(t) = \\mathbb{I}$.\n",
    "\n",
    "In Python:\n",
    "\n",
    "```python\n",
    "def R(t, R0 = 1, w = 2*np.pi):\n",
    "    return(R0 * np.matrix([[np.cos(w*t)],\n",
    "                           [np.sin(w*t)]]))\n",
    "```\n",
    "\n",
    "```python\n",
    "def omega(t):\n",
    "    return(np.identity(2))\n",
    "```\n",
    "\n",
    "### Example: uniform circular movement with frame rotation\n",
    "\n",
    "If our non-inertial frame of reference rotates synchronously with the displacement, the rotation matrix becomes:\n",
    "\n",
    "$$\n",
    "\\Omega(t) = \\begin{bmatrix}\n",
    "                \\cos(\\omega t) & \\sin(\\omega t) \\\\\n",
    "                -\\sin(\\omega t) & \\cos(\\omega t)\n",
    "            \\end{bmatrix}\n",
    "$$\n",
    "\n",
    "In Python:\n",
    "\n",
    "```python\n",
    "def R(t, R0 = 1, w = 2*np.pi):\n",
    "    return(R0 * np.matrix([[np.cos(w*t)],\n",
    "                           [np.sin(w*t)]]))\n",
    "```\n",
    "\n",
    "```python\n",
    "def omega(t):\n",
    "    return(np.matrix([[+np.cos(w*t), np.sin(w*t)], \n",
    "                      [-np.sin(w*t), np.cos(w*t)]]))\n",
    "```"
   ]
  },
  {
   "cell_type": "markdown",
   "metadata": {},
   "source": [
    "## Code it"
   ]
  },
  {
   "cell_type": "markdown",
   "metadata": {},
   "source": [
    "### Install dependencies"
   ]
  },
  {
   "cell_type": "code",
   "execution_count": 2,
   "metadata": {},
   "outputs": [],
   "source": [
    "import numpy as np\n",
    "import matplotlib.pyplot as plt\n",
    "from scipy.misc import derivative"
   ]
  },
  {
   "cell_type": "markdown",
   "metadata": {},
   "source": [
    "### Create input"
   ]
  },
  {
   "cell_type": "code",
   "execution_count": 3,
   "metadata": {},
   "outputs": [],
   "source": [
    "# Parameters\n",
    "g = 9.81 # Gravitational acceleration (unsigned)\n",
    "R0 = 1 # Radius of rotation\n",
    "w = 2*np.pi # Angular speed\n",
    "\n",
    "def a(t):\n",
    "    '''Acceleration in the inertial system'''\n",
    "    return(np.matrix([[.0], \n",
    "                      [-g]]))\n",
    "\n",
    "def R(t):\n",
    "    '''Relative displacement'''    \n",
    "    return(R0 * np.matrix([[np.cos(w*t)],\n",
    "                           [np.sin(w*t)]]))\n",
    "\n",
    "def omega(t):\n",
    "    '''Relative rotation matrix'''\n",
    "    return(np.matrix([[+np.cos(w*t), np.sin(w*t)], \n",
    "                      [-np.sin(w*t), np.cos(w*t)]]))"
   ]
  },
  {
   "cell_type": "markdown",
   "metadata": {},
   "source": [
    "### Calculate the acceleration \"felt\" by the accelerometer"
   ]
  },
  {
   "cell_type": "code",
   "execution_count": 4,
   "metadata": {},
   "outputs": [],
   "source": [
    "def a_ni(t):\n",
    "    '''Acceleration in the non-intertial system'''\n",
    "    \n",
    "    # Auxiliary functions\n",
    "    def V(t, dx=1e-7, **kwargs):\n",
    "        '''Numerical estimation of relative speed'''\n",
    "        return(derivative(R, x0=t, dx=dx, **kwargs))\n",
    "\n",
    "    def A(t, dx=1e-7, **kwargs):\n",
    "        '''Numerical estimation of relative acceleration'''\n",
    "        return(derivative(V, x0=t, dx=dx, **kwargs))\n",
    "    \n",
    "    # Rotate external acceleration\n",
    "    rot_a = omega(t)*a(t)\n",
    "    \n",
    "    # Calculate and rotate relative acceleration\n",
    "    rot_ni = omega(t)*A(t)\n",
    "    \n",
    "    # Apply formula\n",
    "    return(rot_a - rot_ni)"
   ]
  },
  {
   "cell_type": "markdown",
   "metadata": {},
   "source": [
    "## Play and plot\n",
    "\n",
    "Note: certainly this can be done in a much more elegant and efficient way using vectorization."
   ]
  },
  {
   "cell_type": "code",
   "execution_count": 5,
   "metadata": {},
   "outputs": [],
   "source": [
    "# Times to evaluate\n",
    "ts = np.linspace(0, 1)\n",
    "\n",
    "# Containers for the accelerations\n",
    "asx = np.zeros(len(ts)) # In the inertial ...\n",
    "asy = np.zeros(len(ts))\n",
    "asnix = np.zeros(len(ts)) # ... and non inertial frame\n",
    "asniy = np.zeros(len(ts))\n",
    "\n",
    "# Loop and unpack information\n",
    "for i in range(len(ts)):\n",
    "    accels = a(ts[i])\n",
    "    asx[i] = accels[0]\n",
    "    asy[i] = accels[1]\n",
    "    \n",
    "    accels_ni = a_ni(ts[i])\n",
    "    asnix[i] = accels_ni[0]\n",
    "    asniy[i] = accels_ni[1]"
   ]
  },
  {
   "cell_type": "code",
   "execution_count": 6,
   "metadata": {},
   "outputs": [
    {
     "data": {
      "image/png": "[encoded data removed]",
      "text/plain": [
       "<Figure size 432x288 with 2 Axes>"
      ]
     },
     "metadata": {
      "needs_background": "light"
     },
     "output_type": "display_data"
    }
   ],
   "source": [
    "fig, axs = plt.subplots(1, 2, sharey=True)\n",
    "fig.suptitle('Accelerations')\n",
    "\n",
    "axs[0].set_title('Inertial frame')\n",
    "axs[0].set_ylabel('accel')\n",
    "axs[0].plot(ts, asx, label = 'x')\n",
    "axs[0].plot(ts, asy, label = 'y')\n",
    "# axs[0].plot(ts, np.sqrt(asx**2 + asy**2), label = 'absolute')\n",
    "\n",
    "axs[1].set_title('Non-inertial frame')\n",
    "axs[1].plot(ts, asnix, label = 'x')\n",
    "axs[1].plot(ts, asniy, label = 'y')\n",
    "# axs[1].plot(ts, np.sqrt(asnix**2 + asniy**2), label = 'absolute')\n",
    "\n",
    "axs[0].legend()\n",
    "\n",
    "for ax in axs.flat:\n",
    "    ax.set_xlabel('time')"
   ]
  }
 ],
 "metadata": {
  "kernelspec": {
   "display_name": "Python 3",
   "language": "python",
   "name": "python3"
  },
  "language_info": {
   "codemirror_mode": {
    "name": "ipython",
    "version": 3
   },
   "file_extension": ".py",
   "mimetype": "text/x-python",
   "name": "python",
   "nbconvert_exporter": "python",
   "pygments_lexer": "ipython3",
   "version": "3.7.7"
  }
 },
 "nbformat": 4,
 "nbformat_minor": 4
}
