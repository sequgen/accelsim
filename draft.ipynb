{
 "cells": [
  {
   "cell_type": "markdown",
   "metadata": {},
   "source": [
    "# Simulating the recordings of an accelerometer"
   ]
  },
  {
   "cell_type": "markdown",
   "metadata": {},
   "source": [
    "## Install dependencies"
   ]
  },
  {
   "cell_type": "code",
   "execution_count": 1,
   "metadata": {},
   "outputs": [],
   "source": [
    "import numpy as np\n",
    "import matplotlib.pyplot as plt\n",
    "from scipy.misc import derivative"
   ]
  },
  {
   "cell_type": "markdown",
   "metadata": {},
   "source": [
    "## Create input\n",
    "\n",
    "We need to define two things:\n",
    "\n",
    "1. The world in which the accelerometer moves. This is given by the accelerations that exist on it (typically gravitation). We'll code this in the object `a`.\n",
    "2. The way the accelerometer moves, given by the objects `R` (for displacement) and `omega` (for rotations).\n",
    "\n",
    "Please note that `a` and `R` are column vectors, and `omega` is a square matrix with the same dimensionality as the vectors (i.e.: $2 \\times 2$ for plane vectors, $3 \\times 3$ for spatial vectors)."
   ]
  },
  {
   "cell_type": "code",
   "execution_count": 2,
   "metadata": {},
   "outputs": [],
   "source": [
    "# Parameters\n",
    "g = 9.81*0 # Gravitational acceleration (unsigned)\n",
    "R0 = 1 # Radius of rotation\n",
    "w = 2*np.pi # Angular speed\n",
    "\n",
    "def a(t):\n",
    "    '''Acceleration in the inertial system'''\n",
    "    return(np.matrix([[.0], \n",
    "                      [-g]]))\n",
    "\n",
    "def R(t):\n",
    "    '''Relative displacement'''    \n",
    "    return(R0 * np.matrix([[np.cos(w*t)],\n",
    "                           [np.sin(w*t)]]))\n",
    "\n",
    "def omega(t):\n",
    "    '''Relative rotation matrix'''\n",
    "    return(np.matrix([[+np.cos(w*t), np.sin(w*t)], \n",
    "                      [-np.sin(w*t), np.cos(w*t)]]))"
   ]
  },
  {
   "cell_type": "markdown",
   "metadata": {},
   "source": [
    "## Calculate the acceleration \"felt\" by the accelerometer\n",
    "\n",
    "Using the formula:\n",
    "\n",
    "$$\n",
    "\\vec a'_{ni}(t) = \\Omega(t) \\left(\\vec a_{i}(t) - \\ddot{\\vec R}_{i}(t) \\right)\n",
    "$$"
   ]
  },
  {
   "cell_type": "code",
   "execution_count": 6,
   "metadata": {},
   "outputs": [
    {
     "data": {
      "text/plain": [
       "39.47841760435743"
      ]
     },
     "execution_count": 6,
     "metadata": {},
     "output_type": "execute_result"
    }
   ],
   "source": [
    "def a_ni(t):\n",
    "    '''Acceleration in the non-intertial system'''\n",
    "    \n",
    "    # Auxiliary functions\n",
    "    def V(t, dx=1e-7, **kwargs):\n",
    "        '''Numerical estimation of relative speed'''\n",
    "        return(derivative(R, x0=t, dx=dx, **kwargs))\n",
    "\n",
    "    def A(t, dx=1e-7, **kwargs):\n",
    "        '''Numerical estimation of relative acceleration'''\n",
    "        return(derivative(V, x0=t, dx=dx, **kwargs))\n",
    "    \n",
    "    # Rotate external acceleration\n",
    "    rot_a = omega(t)*a(t)\n",
    "    \n",
    "    # Calculate and rotate relative acceleration\n",
    "    rot_ni = omega(t)*A(t)\n",
    "    \n",
    "    # Apply formula\n",
    "    return(rot_a - rot_ni)"
   ]
  },
  {
   "cell_type": "markdown",
   "metadata": {},
   "source": [
    "## Play and plot\n",
    "\n",
    "Note: certainly this can be done in a much more elegant and efficient way using vectorization."
   ]
  },
  {
   "cell_type": "code",
   "execution_count": 4,
   "metadata": {},
   "outputs": [],
   "source": [
    "# Times to evaluate\n",
    "ts = np.linspace(0, 1)\n",
    "\n",
    "# Containers for the accelerations\n",
    "asx = np.zeros(len(ts)) # In the inertial ...\n",
    "asy = np.zeros(len(ts))\n",
    "asnix = np.zeros(len(ts)) # ... and non inertial frame\n",
    "asniy = np.zeros(len(ts))\n",
    "\n",
    "# Loop and unpack information\n",
    "for i in range(len(ts)):\n",
    "    accels = a(ts[i])\n",
    "    asx[i] = accels[0]\n",
    "    asy[i] = accels[1]\n",
    "    \n",
    "    accels_ni = a_ni(ts[i])\n",
    "    asnix[i] = accels_ni[0]\n",
    "    asniy[i] = accels_ni[1]"
   ]
  },
  {
   "cell_type": "code",
   "execution_count": 5,
   "metadata": {},
   "outputs": [
    {
     "data": {
      "image/png": "[encoded data removed]",
      "text/plain": [
       "<Figure size 432x288 with 2 Axes>"
      ]
     },
     "metadata": {
      "needs_background": "light"
     },
     "output_type": "display_data"
    }
   ],
   "source": [
    "fig, axs = plt.subplots(1, 2, sharey=True)\n",
    "fig.suptitle('Accelerations')\n",
    "\n",
    "axs[0].set_title('Inertial frame')\n",
    "axs[0].set_ylabel('accel')\n",
    "axs[0].plot(ts, asx, label = 'x')\n",
    "axs[0].plot(ts, asy, label = 'y')\n",
    "# axs[0].plot(ts, np.sqrt(asx**2 + asy**2), label = 'absolute')\n",
    "\n",
    "axs[1].set_title('Non-inertial frame')\n",
    "axs[1].plot(ts, asnix, label = 'x')\n",
    "axs[1].plot(ts, asniy, label = 'y')\n",
    "# axs[1].plot(ts, np.sqrt(asnix**2 + asniy**2), label = 'absolute')\n",
    "\n",
    "axs[0].legend()\n",
    "\n",
    "for ax in axs.flat:\n",
    "    ax.set_xlabel('time')"
   ]
  }
 ],
 "metadata": {
  "kernelspec": {
   "display_name": "Python 3",
   "language": "python",
   "name": "python3"
  },
  "language_info": {
   "codemirror_mode": {
    "name": "ipython",
    "version": 3
   },
   "file_extension": ".py",
   "mimetype": "text/x-python",
   "name": "python",
   "nbconvert_exporter": "python",
   "pygments_lexer": "ipython3",
   "version": "3.7.7"
  }
 },
 "nbformat": 4,
 "nbformat_minor": 4
}
